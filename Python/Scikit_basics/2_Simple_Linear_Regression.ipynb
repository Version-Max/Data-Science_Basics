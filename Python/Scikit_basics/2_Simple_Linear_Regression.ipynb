{
 "cells": [
  {
   "cell_type": "code",
   "execution_count": 90,
   "metadata": {},
   "outputs": [],
   "source": [
    "import matplotlib.pyplot as plt\n",
    "import numpy as np"
   ]
  },
  {
   "cell_type": "code",
   "execution_count": 91,
   "metadata": {},
   "outputs": [],
   "source": [
    "rng = np.random.RandomState(42)"
   ]
  },
  {
   "cell_type": "code",
   "execution_count": 92,
   "metadata": {},
   "outputs": [
    {
     "data": {
      "text/plain": [
       "<matplotlib.collections.PathCollection at 0x1a235c3610>"
      ]
     },
     "execution_count": 92,
     "metadata": {},
     "output_type": "execute_result"
    },
    {
     "data": {
      "image/png": "[encoded data removed]",
      "text/plain": [
       "<Figure size 432x288 with 1 Axes>"
      ]
     },
     "metadata": {
      "needs_background": "light"
     },
     "output_type": "display_data"
    }
   ],
   "source": [
    "x = 10 * rng.rand(50)\n",
    "y = 2*x - 1 + rng.randn(50)\n",
    "plt.scatter(x, y)"
   ]
  },
  {
   "cell_type": "code",
   "execution_count": 93,
   "metadata": {},
   "outputs": [],
   "source": [
    "# Linear regression model using scikit"
   ]
  },
  {
   "cell_type": "code",
   "execution_count": 94,
   "metadata": {},
   "outputs": [],
   "source": [
    "from sklearn.linear_model import LinearRegression as lr"
   ]
  },
  {
   "cell_type": "code",
   "execution_count": 95,
   "metadata": {},
   "outputs": [
    {
     "data": {
      "text/plain": [
       "LinearRegression(copy_X=True, fit_intercept=True, n_jobs=None, normalize=False)"
      ]
     },
     "execution_count": 95,
     "metadata": {},
     "output_type": "execute_result"
    }
   ],
   "source": [
    "model = lr(fit_intercept=True)\n",
    "model"
   ]
  },
  {
   "cell_type": "code",
   "execution_count": 96,
   "metadata": {},
   "outputs": [
    {
     "name": "stdout",
     "output_type": "stream",
     "text": [
      "(50, 1)\n"
     ]
    },
    {
     "data": {
      "text/plain": [
       "array([[3.74540119],\n",
       "       [9.50714306],\n",
       "       [7.31993942],\n",
       "       [5.98658484],\n",
       "       [1.5601864 ],\n",
       "       [1.5599452 ],\n",
       "       [0.58083612],\n",
       "       [8.66176146],\n",
       "       [6.01115012],\n",
       "       [7.08072578],\n",
       "       [0.20584494],\n",
       "       [9.69909852],\n",
       "       [8.32442641],\n",
       "       [2.12339111],\n",
       "       [1.81824967],\n",
       "       [1.8340451 ],\n",
       "       [3.04242243],\n",
       "       [5.24756432],\n",
       "       [4.31945019],\n",
       "       [2.9122914 ],\n",
       "       [6.11852895],\n",
       "       [1.39493861],\n",
       "       [2.92144649],\n",
       "       [3.66361843],\n",
       "       [4.56069984],\n",
       "       [7.85175961],\n",
       "       [1.99673782],\n",
       "       [5.14234438],\n",
       "       [5.92414569],\n",
       "       [0.46450413],\n",
       "       [6.07544852],\n",
       "       [1.70524124],\n",
       "       [0.65051593],\n",
       "       [9.48885537],\n",
       "       [9.65632033],\n",
       "       [8.08397348],\n",
       "       [3.04613769],\n",
       "       [0.97672114],\n",
       "       [6.84233027],\n",
       "       [4.40152494],\n",
       "       [1.22038235],\n",
       "       [4.9517691 ],\n",
       "       [0.34388521],\n",
       "       [9.09320402],\n",
       "       [2.58779982],\n",
       "       [6.62522284],\n",
       "       [3.11711076],\n",
       "       [5.20068021],\n",
       "       [5.46710279],\n",
       "       [1.84854456]])"
      ]
     },
     "execution_count": 96,
     "metadata": {},
     "output_type": "execute_result"
    }
   ],
   "source": [
    "X = x[:, np.newaxis] # Make x as a 1 column and n-row array\n",
    "print(X.shape)\n",
    "X"
   ]
  },
  {
   "cell_type": "code",
   "execution_count": 97,
   "metadata": {},
   "outputs": [
    {
     "data": {
      "text/plain": [
       "(50, 1)"
      ]
     },
     "execution_count": 97,
     "metadata": {},
     "output_type": "execute_result"
    }
   ],
   "source": [
    "Y = y[:, np.newaxis] # Make Y=y as a 1 column and n-row array\n",
    "Y.shape"
   ]
  },
  {
   "cell_type": "code",
   "execution_count": 98,
   "metadata": {},
   "outputs": [
    {
     "data": {
      "text/plain": [
       "LinearRegression(copy_X=True, fit_intercept=True, n_jobs=None, normalize=False)"
      ]
     },
     "execution_count": 98,
     "metadata": {},
     "output_type": "execute_result"
    }
   ],
   "source": [
    "model.fit(X, Y)"
   ]
  },
  {
   "cell_type": "code",
   "execution_count": 99,
   "metadata": {},
   "outputs": [
    {
     "data": {
      "text/plain": [
       "array([[1.9776566]])"
      ]
     },
     "execution_count": 99,
     "metadata": {},
     "output_type": "execute_result"
    }
   ],
   "source": [
    "model.coef_"
   ]
  },
  {
   "cell_type": "code",
   "execution_count": 100,
   "metadata": {},
   "outputs": [
    {
     "data": {
      "text/plain": [
       "array([-0.90331073])"
      ]
     },
     "execution_count": 100,
     "metadata": {},
     "output_type": "execute_result"
    }
   ],
   "source": [
    "model.intercept_"
   ]
  },
  {
   "cell_type": "code",
   "execution_count": 114,
   "metadata": {},
   "outputs": [],
   "source": [
    "# Therefore, the model is y = 1.97*x - 0.9"
   ]
  },
  {
   "cell_type": "code",
   "execution_count": 115,
   "metadata": {},
   "outputs": [
    {
     "data": {
      "text/plain": [
       "[<matplotlib.lines.Line2D at 0x1a251b6490>]"
      ]
     },
     "execution_count": 115,
     "metadata": {},
     "output_type": "execute_result"
    },
    {
     "data": {
      "image/png": "[encoded data removed]",
      "text/plain": [
       "<Figure size 432x288 with 1 Axes>"
      ]
     },
     "metadata": {
      "needs_background": "light"
     },
     "output_type": "display_data"
    }
   ],
   "source": [
    "# Model predictions vs actual data:\n",
    "Y_predicted = model.predict(X)\n",
    "plt.scatter(X, Y)\n",
    "plt.plot(X, Y_predicted)"
   ]
  },
  {
   "cell_type": "code",
   "execution_count": 102,
   "metadata": {},
   "outputs": [],
   "source": [
    "# Check the model prediction"
   ]
  },
  {
   "cell_type": "code",
   "execution_count": 103,
   "metadata": {},
   "outputs": [],
   "source": [
    "xfit = np.linspace(-1, 11)\n",
    "xfit = xfit[:, np.newaxis]"
   ]
  },
  {
   "cell_type": "code",
   "execution_count": 104,
   "metadata": {},
   "outputs": [
    {
     "data": {
      "text/plain": [
       "array([[-2.88096733],\n",
       "       [-2.39664326],\n",
       "       [-1.9123192 ],\n",
       "       [-1.42799513],\n",
       "       [-0.94367106],\n",
       "       [-0.459347  ],\n",
       "       [ 0.02497707],\n",
       "       [ 0.50930113],\n",
       "       [ 0.9936252 ],\n",
       "       [ 1.47794926],\n",
       "       [ 1.96227333],\n",
       "       [ 2.44659739],\n",
       "       [ 2.93092146],\n",
       "       [ 3.41524552],\n",
       "       [ 3.89956959],\n",
       "       [ 4.38389366],\n",
       "       [ 4.86821772],\n",
       "       [ 5.35254179],\n",
       "       [ 5.83686585],\n",
       "       [ 6.32118992],\n",
       "       [ 6.80551398],\n",
       "       [ 7.28983805],\n",
       "       [ 7.77416211],\n",
       "       [ 8.25848618],\n",
       "       [ 8.74281024],\n",
       "       [ 9.22713431],\n",
       "       [ 9.71145837],\n",
       "       [10.19578244],\n",
       "       [10.68010651],\n",
       "       [11.16443057],\n",
       "       [11.64875464],\n",
       "       [12.1330787 ],\n",
       "       [12.61740277],\n",
       "       [13.10172683],\n",
       "       [13.5860509 ],\n",
       "       [14.07037496],\n",
       "       [14.55469903],\n",
       "       [15.03902309],\n",
       "       [15.52334716],\n",
       "       [16.00767122],\n",
       "       [16.49199529],\n",
       "       [16.97631936],\n",
       "       [17.46064342],\n",
       "       [17.94496749],\n",
       "       [18.42929155],\n",
       "       [18.91361562],\n",
       "       [19.39793968],\n",
       "       [19.88226375],\n",
       "       [20.36658781],\n",
       "       [20.85091188]])"
      ]
     },
     "execution_count": 104,
     "metadata": {},
     "output_type": "execute_result"
    }
   ],
   "source": [
    "yfit = model.predict(xfit)\n",
    "yfit"
   ]
  },
  {
   "cell_type": "code",
   "execution_count": 105,
   "metadata": {},
   "outputs": [
    {
     "data": {
      "text/plain": [
       "[<matplotlib.lines.Line2D at 0x1a24adfbd0>]"
      ]
     },
     "execution_count": 105,
     "metadata": {},
     "output_type": "execute_result"
    },
    {
     "data": {
      "image/png": "[encoded data removed]",
      "text/plain": [
       "<Figure size 432x288 with 1 Axes>"
      ]
     },
     "metadata": {
      "needs_background": "light"
     },
     "output_type": "display_data"
    }
   ],
   "source": [
    "plt.plot(x, y)"
   ]
  },
  {
   "cell_type": "code",
   "execution_count": 106,
   "metadata": {},
   "outputs": [
    {
     "data": {
      "text/plain": [
       "[<matplotlib.lines.Line2D at 0x1a24db3f50>]"
      ]
     },
     "execution_count": 106,
     "metadata": {},
     "output_type": "execute_result"
    },
    {
     "data": {
      "image/png": "[encoded data removed]",
      "text/plain": [
       "<Figure size 432x288 with 1 Axes>"
      ]
     },
     "metadata": {
      "needs_background": "light"
     },
     "output_type": "display_data"
    }
   ],
   "source": [
    "plt.scatter(xfit, yfit)\n",
    "plt.plot(xfit, yfit)"
   ]
  },
  {
   "cell_type": "code",
   "execution_count": 109,
   "metadata": {},
   "outputs": [],
   "source": []
  },
  {
   "cell_type": "code",
   "execution_count": null,
   "metadata": {},
   "outputs": [],
   "source": []
  },
  {
   "cell_type": "code",
   "execution_count": null,
   "metadata": {},
   "outputs": [],
   "source": []
  },
  {
   "cell_type": "code",
   "execution_count": null,
   "metadata": {},
   "outputs": [],
   "source": []
  }
 ],
 "metadata": {
  "kernelspec": {
   "display_name": "Python 3",
   "language": "python",
   "name": "python3"
  },
  "language_info": {
   "codemirror_mode": {
    "name": "ipython",
    "version": 3
   },
   "file_extension": ".py",
   "mimetype": "text/x-python",
   "name": "python",
   "nbconvert_exporter": "python",
   "pygments_lexer": "ipython3",
   "version": "3.7.4"
  }
 },
 "nbformat": 4,
 "nbformat_minor": 2
}
