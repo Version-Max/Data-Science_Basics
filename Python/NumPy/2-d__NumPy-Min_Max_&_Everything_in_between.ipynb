{
 "cells": [
  {
   "cell_type": "code",
   "execution_count": 6,
   "metadata": {},
   "outputs": [
    {
     "data": {
      "text/plain": [
       "array([0.47417156, 0.94858677, 0.04424183, 0.21189018, 0.49149272,\n",
       "       0.1804528 , 0.3990056 , 0.76497078, 0.96187696, 0.49135005,\n",
       "       0.02247996, 0.81309117, 0.42136824, 0.82268968, 0.8399473 ,\n",
       "       0.62680415, 0.70878474, 0.58357259, 0.1262931 , 0.80917292,\n",
       "       0.79804644, 0.5359135 , 0.59797394, 0.4914348 , 0.97615427,\n",
       "       0.77114432, 0.56020629, 0.02234095, 0.19710527, 0.27087094,\n",
       "       0.53989137, 0.41902689, 0.79209127, 0.47413497, 0.30960503,\n",
       "       0.96578843, 0.86211744, 0.26829774, 0.50418913, 0.21259297,\n",
       "       0.39619502, 0.38392626, 0.94329796, 0.2874973 , 0.25792306,\n",
       "       0.41697739, 0.87109402, 0.59699822, 0.95071171, 0.492454  ,\n",
       "       0.08558315, 0.27891289, 0.19591072, 0.43964171, 0.60471997,\n",
       "       0.15179883, 0.60624186, 0.70233288, 0.81220477, 0.66644383,\n",
       "       0.6292172 , 0.56646188, 0.40660606, 0.16746795, 0.03800145,\n",
       "       0.77612698, 0.23303611, 0.01342256, 0.61552829, 0.50156964,\n",
       "       0.89391894, 0.57700812, 0.78873655, 0.04162093, 0.86990803,\n",
       "       0.24750531, 0.20734421, 0.85405148, 0.15865199, 0.90297028,\n",
       "       0.4760542 , 0.73629377, 0.38506328, 0.62877773, 0.95275612,\n",
       "       0.54923238, 0.82272269, 0.22605259, 0.7660344 , 0.3448912 ,\n",
       "       0.78679859, 0.62227606, 0.23985735, 0.26506303, 0.79861106,\n",
       "       0.2180021 , 0.1448812 , 0.15130031, 0.16629373, 0.39317772])"
      ]
     },
     "execution_count": 6,
     "metadata": {},
     "output_type": "execute_result"
    }
   ],
   "source": [
    "\"\"\" \n",
    "\n",
    "Before we even do anything with the data, it is first important\n",
    "to just analyze the statistics of that data such as\n",
    "- mean\n",
    "- standard deviation\n",
    "- sum, product\n",
    "- minimum and maximum\n",
    "- quantiles\n",
    "\n",
    "\"\"\"\n",
    "\n",
    "import numpy as np\n",
    "L = np.random.random(100)\n",
    "L"
   ]
  },
  {
   "cell_type": "code",
   "execution_count": 9,
   "metadata": {},
   "outputs": [
    {
     "data": {
      "text/plain": [
       "50.61532805102132"
      ]
     },
     "execution_count": 9,
     "metadata": {},
     "output_type": "execute_result"
    }
   ],
   "source": [
    "M = np.sum(L)\n",
    "M"
   ]
  },
  {
   "cell_type": "code",
   "execution_count": 13,
   "metadata": {},
   "outputs": [
    {
     "name": "stdout",
     "output_type": "stream",
     "text": [
      "394 µs ± 39.4 µs per loop (mean ± std. dev. of 7 runs, 1000 loops each)\n"
     ]
    }
   ],
   "source": [
    "# Lets time the np.sum function\n",
    "A = np.random.rand(1000000)\n",
    "%timeit B = np.sum(A)"
   ]
  },
  {
   "cell_type": "code",
   "execution_count": 14,
   "metadata": {},
   "outputs": [
    {
     "data": {
      "text/plain": [
       "4.355094387342717e-07"
      ]
     },
     "execution_count": 14,
     "metadata": {},
     "output_type": "execute_result"
    }
   ],
   "source": [
    "min(A)"
   ]
  },
  {
   "cell_type": "code",
   "execution_count": 15,
   "metadata": {},
   "outputs": [
    {
     "data": {
      "text/plain": [
       "0.9999995868318583"
      ]
     },
     "execution_count": 15,
     "metadata": {},
     "output_type": "execute_result"
    }
   ],
   "source": [
    "max(A)"
   ]
  },
  {
   "cell_type": "code",
   "execution_count": 16,
   "metadata": {},
   "outputs": [
    {
     "data": {
      "text/plain": [
       "4.355094387342717e-07"
      ]
     },
     "execution_count": 16,
     "metadata": {},
     "output_type": "execute_result"
    }
   ],
   "source": [
    "np.min(A)"
   ]
  },
  {
   "cell_type": "code",
   "execution_count": 17,
   "metadata": {},
   "outputs": [
    {
     "data": {
      "text/plain": [
       "0.9999995868318583"
      ]
     },
     "execution_count": 17,
     "metadata": {},
     "output_type": "execute_result"
    }
   ],
   "source": [
    "np.max(A)"
   ]
  },
  {
   "cell_type": "code",
   "execution_count": 18,
   "metadata": {},
   "outputs": [
    {
     "name": "stdout",
     "output_type": "stream",
     "text": [
      "92.4 ms ± 2.96 ms per loop (mean ± std. dev. of 7 runs, 10 loops each)\n",
      "374 µs ± 13.1 µs per loop (mean ± std. dev. of 7 runs, 1000 loops each)\n"
     ]
    }
   ],
   "source": [
    "#timing the min and max functions\n",
    "%timeit min(A)\n",
    "%timeit np.min(A)"
   ]
  },
  {
   "cell_type": "code",
   "execution_count": 24,
   "metadata": {},
   "outputs": [
    {
     "name": "stdout",
     "output_type": "stream",
     "text": [
      "Min of A is 4.355094387342717e-07. Max of B is 0.9999995868318583. Sum of A is 500180.6400638256\n"
     ]
    }
   ],
   "source": [
    "# Min, Maximum, and sum\n",
    "print(\"Min of A is {}. Max of B is {}. Sum of A is {}\" .format(np.\n",
    "                                                               min(A),\n",
    "                                                               np.max(A),\n",
    "                                                               np.sum(A)))"
   ]
  },
  {
   "cell_type": "code",
   "execution_count": 32,
   "metadata": {},
   "outputs": [
    {
     "name": "stdout",
     "output_type": "stream",
     "text": [
      "[[1 2 3]\n",
      " [4 5 6]\n",
      " [7 8 9]]\n"
     ]
    }
   ],
   "source": [
    "# Multi dimensional aggregates:\n",
    "\n",
    "M = np.arange(1,10).reshape(3,3)\n",
    "print(M)"
   ]
  },
  {
   "cell_type": "code",
   "execution_count": 33,
   "metadata": {},
   "outputs": [
    {
     "name": "stdout",
     "output_type": "stream",
     "text": [
      "Sum of M is = 45\n"
     ]
    }
   ],
   "source": [
    "print(\"Sum of M is =\", np.sum(M))"
   ]
  },
  {
   "cell_type": "code",
   "execution_count": 34,
   "metadata": {},
   "outputs": [
    {
     "name": "stdout",
     "output_type": "stream",
     "text": [
      "Sum of M colums is =  [12 15 18]\n"
     ]
    }
   ],
   "source": [
    "print(\"Sum of M colums is = \", np.sum(M, axis=0))"
   ]
  },
  {
   "cell_type": "code",
   "execution_count": 35,
   "metadata": {},
   "outputs": [
    {
     "name": "stdout",
     "output_type": "stream",
     "text": [
      "Sum of M rows is =  [ 6 15 24]\n"
     ]
    }
   ],
   "source": [
    "print(\"Sum of M rows is = \", np.sum(M, axis = 1))"
   ]
  },
  {
   "cell_type": "code",
   "execution_count": 36,
   "metadata": {},
   "outputs": [
    {
     "name": "stdout",
     "output_type": "stream",
     "text": [
      " The abolute difference in sum of axis is =  [6 0 6]\n"
     ]
    }
   ],
   "source": [
    "Difference_1 = np.sum(M, axis = 0)\n",
    "Difference_2 = np.sum(M, axis = 1)\n",
    "Difference = Difference_1 - Difference_2\n",
    "print(\" The abolute difference in sum of axis is = \", abs(Difference))"
   ]
  },
  {
   "cell_type": "code",
   "execution_count": 40,
   "metadata": {},
   "outputs": [
    {
     "name": "stdout",
     "output_type": "stream",
     "text": [
      "order,name,height(cm)\r\n",
      "1,George Washington,189\r\n",
      "2,John Adams,170\r\n",
      "3,Thomas Jefferson,189\r\n"
     ]
    }
   ],
   "source": [
    "# Using US president height\n",
    "\n",
    "!head -4 president_heights.csv"
   ]
  },
  {
   "cell_type": "code",
   "execution_count": 41,
   "metadata": {},
   "outputs": [
    {
     "name": "stdout",
     "output_type": "stream",
     "text": [
      "[189 170 189 163 183 171 185 168 173 183 173 173 175 178 183 193 178 173\n",
      " 174 183 183 168 170 178 182 180 183 178 182 188 175 179 183 193 182 183\n",
      " 177 185 188 188 182 185]\n"
     ]
    }
   ],
   "source": [
    "import pandas as pd\n",
    "\n",
    "data = pd.read_csv('president_heights.csv')\n",
    "heights = np.array(data['height(cm)'])\n",
    "print(heights)"
   ]
  },
  {
   "cell_type": "code",
   "execution_count": 42,
   "metadata": {},
   "outputs": [
    {
     "name": "stdout",
     "output_type": "stream",
     "text": [
      " The average heigh of US presidents are =  179.73809523809524\n"
     ]
    }
   ],
   "source": [
    "print(\" The average heigh of US presidents are = \", np.average(heights))"
   ]
  },
  {
   "cell_type": "code",
   "execution_count": 45,
   "metadata": {},
   "outputs": [
    {
     "name": "stdout",
     "output_type": "stream",
     "text": [
      " SD height =  6.931843442745892\n",
      " Min height =  163\n",
      " Max height =  193\n"
     ]
    }
   ],
   "source": [
    "print(\" SD height = \", np.std(heights))\n",
    "print(\" Min height = \", np.min(heights))\n",
    "print(\" Max height = \", np.max(heights))"
   ]
  },
  {
   "cell_type": "code",
   "execution_count": 54,
   "metadata": {},
   "outputs": [
    {
     "name": "stdout",
     "output_type": "stream",
     "text": [
      "Quantile-1 (25%) is:  174.25\n",
      "Quantile-2 (50%) is:  182.0\n",
      "Median is:  182.0\n",
      "Quantile-3 (75th%) is:  183.0\n",
      "Quantile-4 (100%) is:  193.0\n"
     ]
    }
   ],
   "source": [
    "# Calculating quantiles\n",
    "print(\"Quantile-1 (25%) is: \", np.percentile(heights, 25))\n",
    "print(\"Quantile-2 (50%) is: \", np.percentile(heights, 50))\n",
    "print(\"Median is: \", np.median(heights))\n",
    "print(\"Quantile-3 (75th%) is: \", np.percentile(heights, 75))\n",
    "print(\"Quantile-4 (100%) is: \", np.percentile(heights, 100))"
   ]
  },
  {
   "cell_type": "code",
   "execution_count": 62,
   "metadata": {},
   "outputs": [],
   "source": [
    "# Quick demo of matplotlib\n",
    "from matplotlib import pyplot as plt\n",
    "# Styles for matplot lib needs seaborn\n",
    "import seaborn;"
   ]
  },
  {
   "cell_type": "code",
   "execution_count": 66,
   "metadata": {},
   "outputs": [
    {
     "data": {
      "text/plain": [
       "Text(0.5, 0, 'Height of the presidents')"
      ]
     },
     "execution_count": 66,
     "metadata": {},
     "output_type": "execute_result"
    },
    {
     "data": {
      "image/png": "[encoded data removed]",
      "text/plain": [
       "<Figure size 432x288 with 1 Axes>"
      ]
     },
     "metadata": {},
     "output_type": "display_data"
    }
   ],
   "source": [
    "seaborn.set() # Gives a clear chart\n",
    "plt.hist(heights)\n",
    "plt.title(\"Height distribution of US Presidents\")\n",
    "plt.ylabel(\"# of Presidents\")\n",
    "plt.xlabel(\"Height of the presidents\")"
   ]
  },
  {
   "cell_type": "code",
   "execution_count": null,
   "metadata": {},
   "outputs": [],
   "source": []
  }
 ],
 "metadata": {
  "kernelspec": {
   "display_name": "Python 3",
   "language": "python",
   "name": "python3"
  },
  "language_info": {
   "codemirror_mode": {
    "name": "ipython",
    "version": 3
   },
   "file_extension": ".py",
   "mimetype": "text/x-python",
   "name": "python",
   "nbconvert_exporter": "python",
   "pygments_lexer": "ipython3",
   "version": "3.7.4"
  }
 },
 "nbformat": 4,
 "nbformat_minor": 2
}
